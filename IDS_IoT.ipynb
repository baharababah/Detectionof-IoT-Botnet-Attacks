{
  "nbformat": 4,
  "nbformat_minor": 0,
  "metadata": {
    "colab": {
      "name": "IDSystemIoT.ipynb",
      "provenance": [],
      "collapsed_sections": [],
      "authorship_tag": "ABX9TyMo8vuPsKieiyQ8R4JP15WO",
      "include_colab_link": true
    },
    "kernelspec": {
      "name": "python3",
      "display_name": "Python 3"
    },
    "language_info": {
      "name": "python"
    }
  },
  "cells": [
    {
      "cell_type": "markdown",
      "metadata": {
        "id": "view-in-github",
        "colab_type": "text"
      },
      "source": [
        "<a href=\"https://colab.research.google.com/github/baharababah/Detectionof-IoT-Botnet-Attacks/blob/main/IDS_IoT.ipynb\" target=\"_parent\"><img src=\"https://colab.research.google.com/assets/colab-badge.svg\" alt=\"Open In Colab\"/></a>"
      ]
    },
    {
      "cell_type": "code",
      "metadata": {
        "colab": {
          "base_uri": "https://localhost:8080/"
        },
        "id": "z8KnVC1o2HtT",
        "outputId": "22dd0257-dd5a-49a4-c571-d07250be009c"
      },
      "source": [
        "# import required packages\n",
        "from google.colab import drive \n",
        "drive.mount('/content/drive/')\n",
        "import pandas as pd \n",
        "import numpy as np\n",
        "import os, gc, time, warnings\n",
        "import matplotlib.pyplot as plt, matplotlib.gridspec as gridspec \n",
        "import seaborn as sns\n",
        "import glob\n",
        "from sklearn.linear_model import LogisticRegression, SGDClassifier\n",
        "from sklearn.svm import SVC\n",
        "from sklearn import metrics\n",
        "from sklearn.feature_selection import SelectFromModel\n",
        "from sklearn.preprocessing import StandardScaler, LabelEncoder\n",
        "from sklearn.metrics import precision_score, recall_score, f1_score, accuracy_score\n",
        "from sklearn.model_selection import StratifiedKFold\n",
        "from sklearn.model_selection import train_test_split\n",
        "import tensorflow as tf\n",
        "from keras.models import Model, Sequential\n",
        "from keras.layers import Input, Dense, BatchNormalization"
      ],
      "execution_count": 57,
      "outputs": [
        {
          "output_type": "stream",
          "text": [
            "Drive already mounted at /content/drive/; to attempt to forcibly remount, call drive.mount(\"/content/drive/\", force_remount=True).\n"
          ],
          "name": "stdout"
        }
      ]
    },
    {
      "cell_type": "code",
      "metadata": {
        "id": "S1Lri4p22Yqz"
      },
      "source": [
        "# Read the dataset \n",
        "#The dataset https://www.kaggle.com/mkashifn/nbaiot-dataset\n",
        "''' This function read the files of the dataset,\n",
        "       add new column called Label that shows if the data is benign or intrusion ,\n",
        "       then, the files are saved in one dataframe\n",
        "       '''\n",
        "path = r'/content/drive/My Drive/dataset'  # use your path\n",
        "all_files = glob.glob(path + \"/*.csv\")\n",
        "li = []\n",
        "keywords = 'benign', 'gafgyt.combo', 'gafgyt.junk', 'gafgyt.scan', 'gafgyt.tcp', 'gafgyt.udp', 'mirai.ack', 'mirai.scan', 'mirai.syn', 'mirai.udp', 'mirai.udpplain'\n",
        "for filename in all_files:\n",
        "  df = pd.read_csv(filename, index_col=None, header=0)\n",
        "  for keyword in keywords:\n",
        "    if keyword in filename:\n",
        "      df['Label'] = keyword\n",
        "      li.append(df)\n",
        "data = pd.concat(li, ignore_index=True)"
      ],
      "execution_count": 58,
      "outputs": []
    },
    {
      "cell_type": "code",
      "metadata": {
        "colab": {
          "base_uri": "https://localhost:8080/",
          "height": 256
        },
        "id": "qEg4E64GOB47",
        "outputId": "6d3dd640-971c-4262-919b-5fcdc2f8f13c"
      },
      "source": [
        "# show the data\n",
        "data.head()"
      ],
      "execution_count": 45,
      "outputs": [
        {
          "output_type": "execute_result",
          "data": {
            "text/html": [
              "<div>\n",
              "<style scoped>\n",
              "    .dataframe tbody tr th:only-of-type {\n",
              "        vertical-align: middle;\n",
              "    }\n",
              "\n",
              "    .dataframe tbody tr th {\n",
              "        vertical-align: top;\n",
              "    }\n",
              "\n",
              "    .dataframe thead th {\n",
              "        text-align: right;\n",
              "    }\n",
              "</style>\n",
              "<table border=\"1\" class=\"dataframe\">\n",
              "  <thead>\n",
              "    <tr style=\"text-align: right;\">\n",
              "      <th></th>\n",
              "      <th>MI_dir_L5_weight</th>\n",
              "      <th>MI_dir_L5_mean</th>\n",
              "      <th>MI_dir_L5_variance</th>\n",
              "      <th>MI_dir_L3_weight</th>\n",
              "      <th>MI_dir_L3_mean</th>\n",
              "      <th>MI_dir_L3_variance</th>\n",
              "      <th>MI_dir_L1_weight</th>\n",
              "      <th>MI_dir_L1_mean</th>\n",
              "      <th>MI_dir_L1_variance</th>\n",
              "      <th>MI_dir_L0.1_weight</th>\n",
              "      <th>MI_dir_L0.1_mean</th>\n",
              "      <th>MI_dir_L0.1_variance</th>\n",
              "      <th>MI_dir_L0.01_weight</th>\n",
              "      <th>MI_dir_L0.01_mean</th>\n",
              "      <th>MI_dir_L0.01_variance</th>\n",
              "      <th>H_L5_weight</th>\n",
              "      <th>H_L5_mean</th>\n",
              "      <th>H_L5_variance</th>\n",
              "      <th>H_L3_weight</th>\n",
              "      <th>H_L3_mean</th>\n",
              "      <th>H_L3_variance</th>\n",
              "      <th>H_L1_weight</th>\n",
              "      <th>H_L1_mean</th>\n",
              "      <th>H_L1_variance</th>\n",
              "      <th>H_L0.1_weight</th>\n",
              "      <th>H_L0.1_mean</th>\n",
              "      <th>H_L0.1_variance</th>\n",
              "      <th>H_L0.01_weight</th>\n",
              "      <th>H_L0.01_mean</th>\n",
              "      <th>H_L0.01_variance</th>\n",
              "      <th>HH_L5_weight</th>\n",
              "      <th>HH_L5_mean</th>\n",
              "      <th>HH_L5_std</th>\n",
              "      <th>HH_L5_magnitude</th>\n",
              "      <th>HH_L5_radius</th>\n",
              "      <th>HH_L5_covariance</th>\n",
              "      <th>HH_L5_pcc</th>\n",
              "      <th>HH_L3_weight</th>\n",
              "      <th>HH_L3_mean</th>\n",
              "      <th>HH_L3_std</th>\n",
              "      <th>...</th>\n",
              "      <th>HH_jit_L0.1_variance</th>\n",
              "      <th>HH_jit_L0.01_weight</th>\n",
              "      <th>HH_jit_L0.01_mean</th>\n",
              "      <th>HH_jit_L0.01_variance</th>\n",
              "      <th>HpHp_L5_weight</th>\n",
              "      <th>HpHp_L5_mean</th>\n",
              "      <th>HpHp_L5_std</th>\n",
              "      <th>HpHp_L5_magnitude</th>\n",
              "      <th>HpHp_L5_radius</th>\n",
              "      <th>HpHp_L5_covariance</th>\n",
              "      <th>HpHp_L5_pcc</th>\n",
              "      <th>HpHp_L3_weight</th>\n",
              "      <th>HpHp_L3_mean</th>\n",
              "      <th>HpHp_L3_std</th>\n",
              "      <th>HpHp_L3_magnitude</th>\n",
              "      <th>HpHp_L3_radius</th>\n",
              "      <th>HpHp_L3_covariance</th>\n",
              "      <th>HpHp_L3_pcc</th>\n",
              "      <th>HpHp_L1_weight</th>\n",
              "      <th>HpHp_L1_mean</th>\n",
              "      <th>HpHp_L1_std</th>\n",
              "      <th>HpHp_L1_magnitude</th>\n",
              "      <th>HpHp_L1_radius</th>\n",
              "      <th>HpHp_L1_covariance</th>\n",
              "      <th>HpHp_L1_pcc</th>\n",
              "      <th>HpHp_L0.1_weight</th>\n",
              "      <th>HpHp_L0.1_mean</th>\n",
              "      <th>HpHp_L0.1_std</th>\n",
              "      <th>HpHp_L0.1_magnitude</th>\n",
              "      <th>HpHp_L0.1_radius</th>\n",
              "      <th>HpHp_L0.1_covariance</th>\n",
              "      <th>HpHp_L0.1_pcc</th>\n",
              "      <th>HpHp_L0.01_weight</th>\n",
              "      <th>HpHp_L0.01_mean</th>\n",
              "      <th>HpHp_L0.01_std</th>\n",
              "      <th>HpHp_L0.01_magnitude</th>\n",
              "      <th>HpHp_L0.01_radius</th>\n",
              "      <th>HpHp_L0.01_covariance</th>\n",
              "      <th>HpHp_L0.01_pcc</th>\n",
              "      <th>Label</th>\n",
              "    </tr>\n",
              "  </thead>\n",
              "  <tbody>\n",
              "    <tr>\n",
              "      <th>0</th>\n",
              "      <td>1.000000</td>\n",
              "      <td>60.000000</td>\n",
              "      <td>0.000000</td>\n",
              "      <td>1.000000</td>\n",
              "      <td>60.000000</td>\n",
              "      <td>0.000000</td>\n",
              "      <td>1.000000</td>\n",
              "      <td>60.000000</td>\n",
              "      <td>0.000000</td>\n",
              "      <td>1.000000</td>\n",
              "      <td>60.000000</td>\n",
              "      <td>0.000000</td>\n",
              "      <td>1.000000</td>\n",
              "      <td>60.000000</td>\n",
              "      <td>0.000000</td>\n",
              "      <td>1.000000</td>\n",
              "      <td>60.000000</td>\n",
              "      <td>0.000000</td>\n",
              "      <td>1.000000</td>\n",
              "      <td>60.000000</td>\n",
              "      <td>0.000000</td>\n",
              "      <td>1.000000</td>\n",
              "      <td>60.000000</td>\n",
              "      <td>0.000000</td>\n",
              "      <td>1.000000</td>\n",
              "      <td>60.000000</td>\n",
              "      <td>0.000000</td>\n",
              "      <td>1.000000</td>\n",
              "      <td>60.000000</td>\n",
              "      <td>0.000000</td>\n",
              "      <td>1.000000</td>\n",
              "      <td>60.000000</td>\n",
              "      <td>0.000000</td>\n",
              "      <td>60.000000</td>\n",
              "      <td>0.000000</td>\n",
              "      <td>0.0</td>\n",
              "      <td>0.0</td>\n",
              "      <td>1.000000</td>\n",
              "      <td>60.000000</td>\n",
              "      <td>0.000000</td>\n",
              "      <td>...</td>\n",
              "      <td>0.000000</td>\n",
              "      <td>1.000000</td>\n",
              "      <td>1.505662e+09</td>\n",
              "      <td>0.00000</td>\n",
              "      <td>1.000000</td>\n",
              "      <td>60.000000</td>\n",
              "      <td>0.000000</td>\n",
              "      <td>60.000000</td>\n",
              "      <td>0.000000</td>\n",
              "      <td>0.0</td>\n",
              "      <td>0.0</td>\n",
              "      <td>1.000000</td>\n",
              "      <td>60.000000</td>\n",
              "      <td>0.000000</td>\n",
              "      <td>60.000000</td>\n",
              "      <td>0.000000</td>\n",
              "      <td>0.0</td>\n",
              "      <td>0.0</td>\n",
              "      <td>1.000000</td>\n",
              "      <td>60.000000</td>\n",
              "      <td>0.000000</td>\n",
              "      <td>60.000000</td>\n",
              "      <td>0.000000</td>\n",
              "      <td>0.0</td>\n",
              "      <td>0.0</td>\n",
              "      <td>1.000000</td>\n",
              "      <td>60.00000</td>\n",
              "      <td>0.000000</td>\n",
              "      <td>60.00000</td>\n",
              "      <td>0.000000</td>\n",
              "      <td>0.0</td>\n",
              "      <td>0.0</td>\n",
              "      <td>1.000000</td>\n",
              "      <td>60.000000</td>\n",
              "      <td>0.000000</td>\n",
              "      <td>60.000000</td>\n",
              "      <td>0.000000</td>\n",
              "      <td>0.0</td>\n",
              "      <td>0.0</td>\n",
              "      <td>benign</td>\n",
              "    </tr>\n",
              "    <tr>\n",
              "      <th>1</th>\n",
              "      <td>1.000000</td>\n",
              "      <td>354.000000</td>\n",
              "      <td>0.000000</td>\n",
              "      <td>1.000000</td>\n",
              "      <td>354.000000</td>\n",
              "      <td>0.000000</td>\n",
              "      <td>1.000000</td>\n",
              "      <td>354.000000</td>\n",
              "      <td>0.000000</td>\n",
              "      <td>1.000000</td>\n",
              "      <td>354.000000</td>\n",
              "      <td>0.000000</td>\n",
              "      <td>1.000000</td>\n",
              "      <td>354.000000</td>\n",
              "      <td>0.000000</td>\n",
              "      <td>1.000000</td>\n",
              "      <td>354.000000</td>\n",
              "      <td>0.000005</td>\n",
              "      <td>1.000032</td>\n",
              "      <td>353.999619</td>\n",
              "      <td>0.004575</td>\n",
              "      <td>1.031757</td>\n",
              "      <td>353.630645</td>\n",
              "      <td>4.295839</td>\n",
              "      <td>2.597515</td>\n",
              "      <td>346.619800</td>\n",
              "      <td>34.095047</td>\n",
              "      <td>5.319895</td>\n",
              "      <td>344.262695</td>\n",
              "      <td>22.188299</td>\n",
              "      <td>1.000000</td>\n",
              "      <td>354.000000</td>\n",
              "      <td>0.002143</td>\n",
              "      <td>354.000000</td>\n",
              "      <td>0.000005</td>\n",
              "      <td>0.0</td>\n",
              "      <td>0.0</td>\n",
              "      <td>1.000032</td>\n",
              "      <td>353.999619</td>\n",
              "      <td>0.067642</td>\n",
              "      <td>...</td>\n",
              "      <td>6976.104978</td>\n",
              "      <td>5.319895</td>\n",
              "      <td>5.801651e+01</td>\n",
              "      <td>12740.63613</td>\n",
              "      <td>1.000000</td>\n",
              "      <td>354.000000</td>\n",
              "      <td>0.002143</td>\n",
              "      <td>354.000000</td>\n",
              "      <td>0.000005</td>\n",
              "      <td>0.0</td>\n",
              "      <td>0.0</td>\n",
              "      <td>1.000032</td>\n",
              "      <td>353.999619</td>\n",
              "      <td>0.067642</td>\n",
              "      <td>353.999619</td>\n",
              "      <td>0.004575</td>\n",
              "      <td>0.0</td>\n",
              "      <td>0.0</td>\n",
              "      <td>1.031757</td>\n",
              "      <td>353.630645</td>\n",
              "      <td>2.072641</td>\n",
              "      <td>353.630645</td>\n",
              "      <td>4.295839</td>\n",
              "      <td>0.0</td>\n",
              "      <td>0.0</td>\n",
              "      <td>2.597515</td>\n",
              "      <td>346.61980</td>\n",
              "      <td>5.839096</td>\n",
              "      <td>346.61980</td>\n",
              "      <td>34.095047</td>\n",
              "      <td>0.0</td>\n",
              "      <td>0.0</td>\n",
              "      <td>5.319895</td>\n",
              "      <td>344.262695</td>\n",
              "      <td>4.710446</td>\n",
              "      <td>344.262695</td>\n",
              "      <td>22.188299</td>\n",
              "      <td>0.0</td>\n",
              "      <td>0.0</td>\n",
              "      <td>benign</td>\n",
              "    </tr>\n",
              "    <tr>\n",
              "      <th>2</th>\n",
              "      <td>1.857879</td>\n",
              "      <td>360.458980</td>\n",
              "      <td>35.789338</td>\n",
              "      <td>1.912127</td>\n",
              "      <td>360.275733</td>\n",
              "      <td>35.923972</td>\n",
              "      <td>1.969807</td>\n",
              "      <td>360.091968</td>\n",
              "      <td>35.991542</td>\n",
              "      <td>1.996939</td>\n",
              "      <td>360.009198</td>\n",
              "      <td>35.999915</td>\n",
              "      <td>1.999693</td>\n",
              "      <td>360.000920</td>\n",
              "      <td>35.999999</td>\n",
              "      <td>1.857879</td>\n",
              "      <td>360.458979</td>\n",
              "      <td>35.789342</td>\n",
              "      <td>1.912156</td>\n",
              "      <td>360.275456</td>\n",
              "      <td>35.928490</td>\n",
              "      <td>2.000605</td>\n",
              "      <td>359.813452</td>\n",
              "      <td>40.398803</td>\n",
              "      <td>3.589564</td>\n",
              "      <td>352.018840</td>\n",
              "      <td>100.081513</td>\n",
              "      <td>6.318264</td>\n",
              "      <td>347.703087</td>\n",
              "      <td>81.625077</td>\n",
              "      <td>1.857879</td>\n",
              "      <td>360.458979</td>\n",
              "      <td>5.982419</td>\n",
              "      <td>360.458979</td>\n",
              "      <td>35.789342</td>\n",
              "      <td>0.0</td>\n",
              "      <td>0.0</td>\n",
              "      <td>1.912156</td>\n",
              "      <td>360.275456</td>\n",
              "      <td>5.994038</td>\n",
              "      <td>...</td>\n",
              "      <td>5228.309522</td>\n",
              "      <td>6.318264</td>\n",
              "      <td>4.884116e+01</td>\n",
              "      <td>11171.88781</td>\n",
              "      <td>1.857879</td>\n",
              "      <td>360.458979</td>\n",
              "      <td>5.982419</td>\n",
              "      <td>360.458979</td>\n",
              "      <td>35.789342</td>\n",
              "      <td>0.0</td>\n",
              "      <td>0.0</td>\n",
              "      <td>1.912156</td>\n",
              "      <td>360.275456</td>\n",
              "      <td>5.994038</td>\n",
              "      <td>360.275456</td>\n",
              "      <td>35.928490</td>\n",
              "      <td>0.0</td>\n",
              "      <td>0.0</td>\n",
              "      <td>2.000605</td>\n",
              "      <td>359.813452</td>\n",
              "      <td>6.356005</td>\n",
              "      <td>359.813452</td>\n",
              "      <td>40.398803</td>\n",
              "      <td>0.0</td>\n",
              "      <td>0.0</td>\n",
              "      <td>3.589564</td>\n",
              "      <td>352.01884</td>\n",
              "      <td>10.004075</td>\n",
              "      <td>352.01884</td>\n",
              "      <td>100.081513</td>\n",
              "      <td>0.0</td>\n",
              "      <td>0.0</td>\n",
              "      <td>6.318264</td>\n",
              "      <td>347.703087</td>\n",
              "      <td>9.034660</td>\n",
              "      <td>347.703087</td>\n",
              "      <td>81.625077</td>\n",
              "      <td>0.0</td>\n",
              "      <td>0.0</td>\n",
              "      <td>benign</td>\n",
              "    </tr>\n",
              "    <tr>\n",
              "      <th>3</th>\n",
              "      <td>1.000000</td>\n",
              "      <td>337.000000</td>\n",
              "      <td>0.000000</td>\n",
              "      <td>1.000000</td>\n",
              "      <td>337.000000</td>\n",
              "      <td>0.000000</td>\n",
              "      <td>1.000000</td>\n",
              "      <td>337.000000</td>\n",
              "      <td>0.000000</td>\n",
              "      <td>1.000000</td>\n",
              "      <td>337.000000</td>\n",
              "      <td>0.000000</td>\n",
              "      <td>1.000000</td>\n",
              "      <td>337.000000</td>\n",
              "      <td>0.000000</td>\n",
              "      <td>1.000000</td>\n",
              "      <td>337.000000</td>\n",
              "      <td>0.000000</td>\n",
              "      <td>1.000000</td>\n",
              "      <td>337.000000</td>\n",
              "      <td>0.000000</td>\n",
              "      <td>1.000000</td>\n",
              "      <td>337.000000</td>\n",
              "      <td>0.000000</td>\n",
              "      <td>1.000000</td>\n",
              "      <td>337.000000</td>\n",
              "      <td>0.000000</td>\n",
              "      <td>1.000000</td>\n",
              "      <td>337.000000</td>\n",
              "      <td>0.000000</td>\n",
              "      <td>1.000000</td>\n",
              "      <td>337.000000</td>\n",
              "      <td>0.000000</td>\n",
              "      <td>337.000000</td>\n",
              "      <td>0.000000</td>\n",
              "      <td>0.0</td>\n",
              "      <td>0.0</td>\n",
              "      <td>1.000000</td>\n",
              "      <td>337.000000</td>\n",
              "      <td>0.000000</td>\n",
              "      <td>...</td>\n",
              "      <td>0.000000</td>\n",
              "      <td>1.000000</td>\n",
              "      <td>1.505662e+09</td>\n",
              "      <td>0.00000</td>\n",
              "      <td>1.000000</td>\n",
              "      <td>337.000000</td>\n",
              "      <td>0.000000</td>\n",
              "      <td>337.000000</td>\n",
              "      <td>0.000000</td>\n",
              "      <td>0.0</td>\n",
              "      <td>0.0</td>\n",
              "      <td>1.000000</td>\n",
              "      <td>337.000000</td>\n",
              "      <td>0.000000</td>\n",
              "      <td>337.000000</td>\n",
              "      <td>0.000000</td>\n",
              "      <td>0.0</td>\n",
              "      <td>0.0</td>\n",
              "      <td>1.000000</td>\n",
              "      <td>337.000000</td>\n",
              "      <td>0.000000</td>\n",
              "      <td>337.000000</td>\n",
              "      <td>0.000000</td>\n",
              "      <td>0.0</td>\n",
              "      <td>0.0</td>\n",
              "      <td>1.000000</td>\n",
              "      <td>337.00000</td>\n",
              "      <td>0.000000</td>\n",
              "      <td>337.00000</td>\n",
              "      <td>0.000000</td>\n",
              "      <td>0.0</td>\n",
              "      <td>0.0</td>\n",
              "      <td>1.000000</td>\n",
              "      <td>337.000000</td>\n",
              "      <td>0.000000</td>\n",
              "      <td>337.000000</td>\n",
              "      <td>0.000000</td>\n",
              "      <td>0.0</td>\n",
              "      <td>0.0</td>\n",
              "      <td>benign</td>\n",
              "    </tr>\n",
              "    <tr>\n",
              "      <th>4</th>\n",
              "      <td>1.680223</td>\n",
              "      <td>172.140917</td>\n",
              "      <td>18487.448750</td>\n",
              "      <td>1.793580</td>\n",
              "      <td>182.560279</td>\n",
              "      <td>18928.175300</td>\n",
              "      <td>1.925828</td>\n",
              "      <td>193.165753</td>\n",
              "      <td>19153.795810</td>\n",
              "      <td>1.992323</td>\n",
              "      <td>197.966314</td>\n",
              "      <td>19181.965180</td>\n",
              "      <td>1.999230</td>\n",
              "      <td>198.446631</td>\n",
              "      <td>19182.247150</td>\n",
              "      <td>1.680223</td>\n",
              "      <td>172.140917</td>\n",
              "      <td>18487.448750</td>\n",
              "      <td>1.793580</td>\n",
              "      <td>182.560279</td>\n",
              "      <td>18928.175300</td>\n",
              "      <td>1.925828</td>\n",
              "      <td>193.165753</td>\n",
              "      <td>19153.795810</td>\n",
              "      <td>1.992323</td>\n",
              "      <td>197.966314</td>\n",
              "      <td>19181.965180</td>\n",
              "      <td>1.999230</td>\n",
              "      <td>198.446631</td>\n",
              "      <td>19182.247150</td>\n",
              "      <td>1.000000</td>\n",
              "      <td>60.000000</td>\n",
              "      <td>0.000000</td>\n",
              "      <td>524.399648</td>\n",
              "      <td>31826.307570</td>\n",
              "      <td>0.0</td>\n",
              "      <td>0.0</td>\n",
              "      <td>1.000000</td>\n",
              "      <td>60.000000</td>\n",
              "      <td>0.000000</td>\n",
              "      <td>...</td>\n",
              "      <td>0.000000</td>\n",
              "      <td>1.000000</td>\n",
              "      <td>1.505662e+09</td>\n",
              "      <td>0.00000</td>\n",
              "      <td>1.000000</td>\n",
              "      <td>60.000000</td>\n",
              "      <td>0.000000</td>\n",
              "      <td>60.000000</td>\n",
              "      <td>0.000000</td>\n",
              "      <td>0.0</td>\n",
              "      <td>0.0</td>\n",
              "      <td>1.000000</td>\n",
              "      <td>60.000000</td>\n",
              "      <td>0.000000</td>\n",
              "      <td>60.000000</td>\n",
              "      <td>0.000000</td>\n",
              "      <td>0.0</td>\n",
              "      <td>0.0</td>\n",
              "      <td>1.000000</td>\n",
              "      <td>60.000000</td>\n",
              "      <td>0.000000</td>\n",
              "      <td>60.000000</td>\n",
              "      <td>0.000000</td>\n",
              "      <td>0.0</td>\n",
              "      <td>0.0</td>\n",
              "      <td>1.000000</td>\n",
              "      <td>60.00000</td>\n",
              "      <td>0.000000</td>\n",
              "      <td>60.00000</td>\n",
              "      <td>0.000000</td>\n",
              "      <td>0.0</td>\n",
              "      <td>0.0</td>\n",
              "      <td>1.000000</td>\n",
              "      <td>60.000000</td>\n",
              "      <td>0.000000</td>\n",
              "      <td>60.000000</td>\n",
              "      <td>0.000000</td>\n",
              "      <td>0.0</td>\n",
              "      <td>0.0</td>\n",
              "      <td>benign</td>\n",
              "    </tr>\n",
              "  </tbody>\n",
              "</table>\n",
              "<p>5 rows × 116 columns</p>\n",
              "</div>"
            ],
            "text/plain": [
              "   MI_dir_L5_weight  MI_dir_L5_mean  ...  HpHp_L0.01_pcc   Label\n",
              "0          1.000000       60.000000  ...             0.0  benign\n",
              "1          1.000000      354.000000  ...             0.0  benign\n",
              "2          1.857879      360.458980  ...             0.0  benign\n",
              "3          1.000000      337.000000  ...             0.0  benign\n",
              "4          1.680223      172.140917  ...             0.0  benign\n",
              "\n",
              "[5 rows x 116 columns]"
            ]
          },
          "metadata": {
            "tags": []
          },
          "execution_count": 45
        }
      ]
    },
    {
      "cell_type": "code",
      "metadata": {
        "colab": {
          "base_uri": "https://localhost:8080/"
        },
        "id": "DKk8k6i9OQAt",
        "outputId": "62f59f3b-831c-4343-c28e-2ebdee08bf65"
      },
      "source": [
        "data.dtypes"
      ],
      "execution_count": 46,
      "outputs": [
        {
          "output_type": "execute_result",
          "data": {
            "text/plain": [
              "MI_dir_L5_weight         float64\n",
              "MI_dir_L5_mean           float64\n",
              "MI_dir_L5_variance       float64\n",
              "MI_dir_L3_weight         float64\n",
              "MI_dir_L3_mean           float64\n",
              "                          ...   \n",
              "HpHp_L0.01_magnitude     float64\n",
              "HpHp_L0.01_radius        float64\n",
              "HpHp_L0.01_covariance    float64\n",
              "HpHp_L0.01_pcc           float64\n",
              "Label                     object\n",
              "Length: 116, dtype: object"
            ]
          },
          "metadata": {
            "tags": []
          },
          "execution_count": 46
        }
      ]
    },
    {
      "cell_type": "code",
      "metadata": {
        "colab": {
          "base_uri": "https://localhost:8080/"
        },
        "id": "aYlN_Pzx4x0S",
        "outputId": "2202be60-1736-4a30-d66d-7ec249a71ace"
      },
      "source": [
        "# Find out columns with missing values\n",
        "datacopy = data.copy(deep=True)\n",
        "data.isnull().sum(axis=0)"
      ],
      "execution_count": 59,
      "outputs": [
        {
          "output_type": "execute_result",
          "data": {
            "text/plain": [
              "MI_dir_L5_weight         0\n",
              "MI_dir_L5_mean           0\n",
              "MI_dir_L5_variance       0\n",
              "MI_dir_L3_weight         0\n",
              "MI_dir_L3_mean           0\n",
              "                        ..\n",
              "HpHp_L0.01_magnitude     0\n",
              "HpHp_L0.01_radius        0\n",
              "HpHp_L0.01_covariance    0\n",
              "HpHp_L0.01_pcc           0\n",
              "Label                    0\n",
              "Length: 116, dtype: int64"
            ]
          },
          "metadata": {
            "tags": []
          },
          "execution_count": 59
        }
      ]
    },
    {
      "cell_type": "code",
      "metadata": {
        "id": "OihGn9Fz1YY7"
      },
      "source": [
        "from sklearn.utils import shuffle\n",
        "data = shuffle(data)"
      ],
      "execution_count": 60,
      "outputs": []
    },
    {
      "cell_type": "code",
      "metadata": {
        "id": "tJfYngHT0iFl"
      },
      "source": [
        "# take only 50000 rows for feature selection because of the RAM SIZE restriction i have. \n",
        "n = 50000\n",
        "data = data.iloc[:n]"
      ],
      "execution_count": 61,
      "outputs": []
    },
    {
      "cell_type": "code",
      "metadata": {
        "colab": {
          "base_uri": "https://localhost:8080/"
        },
        "id": "3KaNTBG0Nrnc",
        "outputId": "0d08bc00-8de7-4c45-9483-12ca805930a9"
      },
      "source": [
        "data['Label'].unique()"
      ],
      "execution_count": 62,
      "outputs": [
        {
          "output_type": "execute_result",
          "data": {
            "text/plain": [
              "array(['gafgyt.combo', 'mirai.udp', 'mirai.ack', 'mirai.udpplain',\n",
              "       'mirai.syn', 'gafgyt.udp', 'mirai.scan', 'benign', 'gafgyt.scan',\n",
              "       'gafgyt.junk', 'gafgyt.tcp'], dtype=object)"
            ]
          },
          "metadata": {
            "tags": []
          },
          "execution_count": 62
        }
      ]
    },
    {
      "cell_type": "code",
      "metadata": {
        "colab": {
          "base_uri": "https://localhost:8080/",
          "height": 318
        },
        "id": "Ey30sI_pkdKm",
        "outputId": "74034d0e-24cd-4317-de81-488e1e246611"
      },
      "source": [
        "# Replace 'label' values to numbers as hist method requires numerical columns\n",
        "data['Label'].replace({'benign': 0, 'gafgyt.combo': 1, 'gafgyt.junk': 1, 'gafgyt.scan': 1, 'gafgyt.tcp': 1, 'gafgyt.udp': 1, 'mirai.ack': 1, 'mirai.scan': 1, 'mirai.syn': 1, 'mirai.udp': 1, 'mirai.udpplain': 1},inplace=True)\n",
        "# Create pandas histogram to check if the data is unbalanced\n",
        "data.hist(column= 'Label', rwidth = 0.9)"
      ],
      "execution_count": 63,
      "outputs": [
        {
          "output_type": "execute_result",
          "data": {
            "text/plain": [
              "array([[<matplotlib.axes._subplots.AxesSubplot object at 0x7f4428508490>]],\n",
              "      dtype=object)"
            ]
          },
          "metadata": {
            "tags": []
          },
          "execution_count": 63
        },
        {
          "output_type": "display_data",
          "data": {
            "image/png": "[encoded data removed]",
            "text/plain": [
              "<Figure size 432x288 with 1 Axes>"
            ]
          },
          "metadata": {
            "tags": [],
            "needs_background": "light"
          }
        }
      ]
    },
    {
      "cell_type": "code",
      "metadata": {
        "id": "ww0zpsh6LIIp"
      },
      "source": [
        "x = data.drop('Label', axis=1)\n",
        "y = data['Label']"
      ],
      "execution_count": 64,
      "outputs": []
    },
    {
      "cell_type": "code",
      "metadata": {
        "colab": {
          "base_uri": "https://localhost:8080/"
        },
        "id": "hfXlhGXDLdpC",
        "outputId": "a84a3b2f-7acd-49e3-ac0f-49b8236c0796"
      },
      "source": [
        "# bakance the data using SMOTE\n",
        "from imblearn.over_sampling import SMOTE\n",
        "oversample = SMOTE()\n",
        "x, y = oversample.fit_resample(x, y)"
      ],
      "execution_count": 65,
      "outputs": [
        {
          "output_type": "stream",
          "text": [
            "/usr/local/lib/python3.7/dist-packages/sklearn/utils/deprecation.py:87: FutureWarning: Function safe_indexing is deprecated; safe_indexing is deprecated in version 0.22 and will be removed in version 0.24.\n",
            "  warnings.warn(msg, category=FutureWarning)\n"
          ],
          "name": "stderr"
        }
      ]
    },
    {
      "cell_type": "code",
      "metadata": {
        "colab": {
          "base_uri": "https://localhost:8080/",
          "height": 318
        },
        "id": "DnFH3MIIM6_n",
        "outputId": "39015ddf-5eb0-4a12-96af-7b9f74e104cf"
      },
      "source": [
        "yshow = pd.DataFrame(y)\n",
        "yshow.hist(rwidth = 0.9)"
      ],
      "execution_count": 66,
      "outputs": [
        {
          "output_type": "execute_result",
          "data": {
            "text/plain": [
              "array([[<matplotlib.axes._subplots.AxesSubplot object at 0x7f44172661d0>]],\n",
              "      dtype=object)"
            ]
          },
          "metadata": {
            "tags": []
          },
          "execution_count": 66
        },
        {
          "output_type": "display_data",
          "data": {
            "image/png": "[encoded data removed]",
            "text/plain": [
              "<Figure size 432x288 with 1 Axes>"
            ]
          },
          "metadata": {
            "tags": [],
            "needs_background": "light"
          }
        }
      ]
    },
    {
      "cell_type": "code",
      "metadata": {
        "id": "7Uf3w4p6Tm8Y"
      },
      "source": [
        ""
      ],
      "execution_count": null,
      "outputs": []
    },
    {
      "cell_type": "code",
      "metadata": {
        "id": "naYaMetuXqO3"
      },
      "source": [
        "from sklearn.feature_selection import SelectKBest\n",
        "from sklearn.feature_selection import mutual_info_classif\n",
        "from sklearn.preprocessing import MinMaxScaler\n",
        "from keras.utils import np_utils"
      ],
      "execution_count": 28,
      "outputs": []
    },
    {
      "cell_type": "code",
      "metadata": {
        "id": "aldSW3PVIOAX",
        "colab": {
          "base_uri": "https://localhost:8080/"
        },
        "outputId": "3e81975d-d2c2-4d08-8fae-e890cf2ab9dd"
      },
      "source": [
        "# information gain\n",
        "x = pd.DataFrame(x)\n",
        "y = pd.DataFrame(y)\n",
        "fs = SelectKBest(score_func=mutual_info_classif, k='all')\n",
        "fs.fit(x, y)\n",
        "fs_support = fs.get_support()\n",
        "fs_feature = x.loc[:, fs_support].columns.tolist()\n",
        "fs_feature = list(fs_feature)\n",
        "# information gain for each column\n",
        "for i in range(len(fs.scores_)):\n",
        "  print(fs_feature[i], ':', fs.scores_[i])"
      ],
      "execution_count": 67,
      "outputs": [
        {
          "output_type": "stream",
          "text": [
            "/usr/local/lib/python3.7/dist-packages/sklearn/utils/validation.py:760: DataConversionWarning: A column-vector y was passed when a 1d array was expected. Please change the shape of y to (n_samples, ), for example using ravel().\n",
            "  y = column_or_1d(y, warn=True)\n"
          ],
          "name": "stderr"
        },
        {
          "output_type": "stream",
          "text": [
            "0 : 0.5696680653598862\n",
            "1 : 0.5947780540775232\n",
            "2 : 0.30563493727542057\n",
            "3 : 0.5856284160910399\n",
            "4 : 0.6117956334189458\n",
            "5 : 0.2982896018741781\n",
            "6 : 0.6468896206097783\n",
            "7 : 0.6457066169388658\n",
            "8 : 0.3680153104028754\n",
            "9 : 0.6924364067071714\n",
            "10 : 0.6721740598251965\n",
            "11 : 0.5800652158093538\n",
            "12 : 0.6925166539989497\n",
            "13 : 0.6915788001132752\n",
            "14 : 0.6173488594572131\n",
            "15 : 0.5686383089278935\n",
            "16 : 0.5945564679103397\n",
            "17 : 0.30587546728188575\n",
            "18 : 0.5852516749211916\n",
            "19 : 0.611743541632348\n",
            "20 : 0.2986618498213198\n",
            "21 : 0.6470605644098786\n",
            "22 : 0.6456577472255215\n",
            "23 : 0.36674889186040005\n",
            "24 : 0.692429425319551\n",
            "25 : 0.6720840749964243\n",
            "26 : 0.5800411151541525\n",
            "27 : 0.6925190611362547\n",
            "28 : 0.6912871790142411\n",
            "29 : 0.6176015048804095\n",
            "30 : 0.24266406495216297\n",
            "31 : 0.5863191335500124\n",
            "32 : 0.16162824058452085\n",
            "33 : 0.6849497284557333\n",
            "34 : 0.07724014559789083\n",
            "35 : 0.0022157725005005346\n",
            "36 : 0.028940090224341075\n",
            "37 : 0.25489942709891333\n",
            "38 : 0.5937098531875358\n",
            "39 : 0.1448280527925272\n",
            "40 : 0.6847398456399725\n",
            "41 : 0.07888297393084032\n",
            "42 : 0.03210500599460708\n",
            "43 : 0.03521772284031588\n",
            "44 : 0.2848870697689254\n",
            "45 : 0.6802090484307378\n",
            "46 : 0.3150480569238492\n",
            "47 : 0.6852518660769865\n",
            "48 : 0.1432457827032656\n",
            "49 : 0.1250438503203346\n",
            "50 : 0.12934879800778631\n",
            "51 : 0.6720417176639137\n",
            "52 : 0.6833809869372189\n",
            "53 : 0.45080248160830627\n",
            "54 : 0.6922904006393713\n",
            "55 : 0.2695542234007853\n",
            "56 : 0.1612927236894488\n",
            "57 : 0.17531065889883735\n",
            "58 : 0.6845613583252408\n",
            "59 : 0.68977682998553\n",
            "60 : 0.5662383176216139\n",
            "61 : 0.6926165964354921\n",
            "62 : 0.28103343156160854\n",
            "63 : 0.17321465474714937\n",
            "64 : 0.19310212235973223\n",
            "65 : 0.2424915150398237\n",
            "66 : 0.6835877347582696\n",
            "67 : 0.009758932111750829\n",
            "68 : 0.25524096430778376\n",
            "69 : 0.6785801204315078\n",
            "70 : 0.01186017962808461\n",
            "71 : 0.28486258041943846\n",
            "72 : 0.6756882811577709\n",
            "73 : 0.020833486731893114\n",
            "74 : 0.6719381342752785\n",
            "75 : 0.62131092570586\n",
            "76 : 0.15005600703167699\n",
            "77 : 0.684754264366684\n",
            "78 : 0.6449040037985673\n",
            "79 : 0.18407844023432407\n",
            "80 : 0.04469767914246758\n",
            "81 : 0.4804302511735783\n",
            "82 : 0.04322690073863855\n",
            "83 : 0.6841359379905537\n",
            "84 : 0.005083021732641857\n",
            "85 : 0.0022280077794833986\n",
            "86 : 0.0\n",
            "87 : 0.05533995742596187\n",
            "88 : 0.4808859991192791\n",
            "89 : 0.05667317986686071\n",
            "90 : 0.6840405117617004\n",
            "91 : 0.0012139193946849591\n",
            "92 : 0.0026557343012276746\n",
            "93 : 0.0\n",
            "94 : 0.0894285460711246\n",
            "95 : 0.4811076804333281\n",
            "96 : 0.40356426072323015\n",
            "97 : 0.6841608694223853\n",
            "98 : 0.004272770968513306\n",
            "99 : 0.0008156695954439908\n",
            "100 : 0.0022277644179269362\n",
            "101 : 0.6664692243511836\n",
            "102 : 0.4826956721662561\n",
            "103 : 0.4150606772887482\n",
            "104 : 0.6844098577856541\n",
            "105 : 0.006481642706509749\n",
            "106 : 0.0040543706858013895\n",
            "107 : 0.0006814654630244998\n",
            "108 : 0.6680871539293133\n",
            "109 : 0.4797219967235864\n",
            "110 : 0.5658758228390333\n",
            "111 : 0.6835427813019023\n",
            "112 : 0.02379638856483468\n",
            "113 : 0.013476856700494366\n",
            "114 : 0.025591652457416014\n"
          ],
          "name": "stdout"
        }
      ]
    },
    {
      "cell_type": "code",
      "metadata": {
        "id": "hZB95kYVIr1z",
        "colab": {
          "base_uri": "https://localhost:8080/"
        },
        "outputId": "f96a5048-b978-41bd-84b4-c52c4c5d3fc3"
      },
      "source": [
        "# get the first highest 30 features resulted from info gain\n",
        "fs = SelectKBest(score_func=mutual_info_classif, k=30)\n",
        "fs.fit(x, y)\n",
        "fs_support = fs.get_support()\n",
        "fs_feature = x.loc[:, fs_support].columns.tolist()\n",
        "fs_feature = list(fs_feature)\n",
        "print(fs_feature)"
      ],
      "execution_count": 68,
      "outputs": [
        {
          "output_type": "stream",
          "text": [
            "/usr/local/lib/python3.7/dist-packages/sklearn/utils/validation.py:760: DataConversionWarning: A column-vector y was passed when a 1d array was expected. Please change the shape of y to (n_samples, ), for example using ravel().\n",
            "  y = column_or_1d(y, warn=True)\n"
          ],
          "name": "stderr"
        },
        {
          "output_type": "stream",
          "text": [
            "[9, 10, 12, 13, 24, 25, 27, 28, 33, 40, 45, 47, 51, 52, 54, 58, 59, 61, 66, 69, 72, 74, 77, 83, 90, 97, 101, 104, 108, 111]\n"
          ],
          "name": "stdout"
        }
      ]
    },
    {
      "cell_type": "code",
      "metadata": {
        "id": "6-xMNFvg-j23"
      },
      "source": [
        "x = x.iloc[:, [9, 10, 12, 13, 24, 25, 27, 28, 33, 40, 45, 47, 51, 52, 54, 58, 59, 61, 66, 69, 72, 74, 77, 83, 90, 97, 101, 104, 108, 111]]"
      ],
      "execution_count": 69,
      "outputs": []
    },
    {
      "cell_type": "code",
      "metadata": {
        "id": "GdzSBgDJnz3Q"
      },
      "source": [
        "# normalize the data\n",
        "from sklearn import preprocessing\n",
        "x = preprocessing.normalize(x)"
      ],
      "execution_count": 70,
      "outputs": []
    },
    {
      "cell_type": "code",
      "metadata": {
        "id": "ynkH0LczJqHf"
      },
      "source": [
        "from sklearn.model_selection import train_test_split\n",
        "x_train, x_test, y_train, y_test = train_test_split(x, y, test_size = 0.2, random_state = 1234, stratify=y)"
      ],
      "execution_count": 71,
      "outputs": []
    },
    {
      "cell_type": "code",
      "metadata": {
        "id": "3o-w9ihwhQfX"
      },
      "source": [
        "# Deep Neural Network classifier\n",
        "def getdnnclf():\n",
        "    clf = Sequential()\n",
        "    clf.add(Dense(32, input_dim =30 , activation = 'relu'))\n",
        "    clf.add(BatchNormalization())\n",
        "    clf.add(Dense(16, activation = 'relu'))\n",
        "    clf.add(Dense(8, activation = 'relu'))\n",
        "    clf.add(Dense(1, activation = 'sigmoid'))\n",
        "    clf.compile(loss = 'binary_crossentropy', optimizer = 'adam', metrics = ['accuracy'])\n",
        "    return clf"
      ],
      "execution_count": 74,
      "outputs": []
    },
    {
      "cell_type": "code",
      "metadata": {
        "colab": {
          "base_uri": "https://localhost:8080/"
        },
        "id": "3XVyr0yLhfun",
        "outputId": "7e7605a5-d1c3-4733-cc1f-134c78c0009f"
      },
      "source": [
        "# training on DNN classifier\n",
        "clf = getdnnclf()\n",
        "clf.fit(x_train, y_train, epochs = 10 , verbose = 0)\n",
        "y_pred = (clf.predict(x_test) >= 0.5).astype(int)\n",
        "dnn_accuracy = accuracy_score(y_test, y_pred)\n",
        "print('DNN accuracy:', dnn_accuracy) "
      ],
      "execution_count": 75,
      "outputs": [
        {
          "output_type": "stream",
          "text": [
            "DNN accuracy: 0.9990575422797006\n"
          ],
          "name": "stdout"
        }
      ]
    },
    {
      "cell_type": "code",
      "metadata": {
        "colab": {
          "base_uri": "https://localhost:8080/",
          "height": 279
        },
        "id": "Q2ElyFaYHGl2",
        "outputId": "f464ad83-705c-45b8-be86-ee860ec68df9"
      },
      "source": [
        "#Prediction of test set\n",
        "import seaborn as sns\n",
        "#print confusion_matrix\n",
        "conf_matrix = confusion_matrix(y_test, y_pred)\n",
        "sns.heatmap(conf_matrix,cmap=\"YlGnBu\",annot=True,fmt='g');\n",
        "plt.xlabel('predicted value')\n",
        "plt.ylabel('true value');"
      ],
      "execution_count": 76,
      "outputs": [
        {
          "output_type": "display_data",
          "data": {
            "image/png": "[encoded data removed]",
            "text/plain": [
              "<Figure size 432x288 with 2 Axes>"
            ]
          },
          "metadata": {
            "tags": [],
            "needs_background": "light"
          }
        }
      ]
    },
    {
      "cell_type": "code",
      "metadata": {
        "colab": {
          "base_uri": "https://localhost:8080/"
        },
        "id": "SLY2Phn9HrD0",
        "outputId": "bb6f3965-c168-46a8-ca62-feec2a5398dd"
      },
      "source": [
        "# accuracy: (tp + tn) / (p + n)\n",
        "accuracy = accuracy_score(y_test, y_pred)\n",
        "print('Accuracy: %f' % accuracy)\n",
        "# precision tp / (tp + fp)\n",
        "precision = precision_score(y_test, y_pred)\n",
        "print('Precision: %f' % precision)\n",
        "# recall: tp / (tp + fn)\n",
        "recall = recall_score(y_test, y_pred)\n",
        "print('Recall: %f' % recall)\n",
        "# f1: 2 tp / (2 tp + fp + fn)\n",
        "f1 = f1_score(y_test, y_pred)\n",
        "print('F1 score: %f' % f1)"
      ],
      "execution_count": 77,
      "outputs": [
        {
          "output_type": "stream",
          "text": [
            "Accuracy: 0.999058\n",
            "Precision: 0.998119\n",
            "Recall: 1.000000\n",
            "F1 score: 0.999058\n"
          ],
          "name": "stdout"
        }
      ]
    },
    {
      "cell_type": "code",
      "metadata": {
        "colab": {
          "base_uri": "https://localhost:8080/",
          "height": 295
        },
        "id": "7w8FHCLZILds",
        "outputId": "467b2c4e-4baa-442d-9e74-dc8be630b70c"
      },
      "source": [
        "#  build roc curve\n",
        "from sklearn.metrics import roc_curve\n",
        "from sklearn.metrics import auc\n",
        "from matplotlib import pyplot as plt\n",
        "fpr, tpr, _ = roc_curve(y_test, y_pred)\n",
        "roc_auc = auc(fpr, tpr)\n",
        "plt.figure()\n",
        "lw = 2\n",
        "plt.plot(fpr, tpr, color='darkorange',lw=lw, label='ROC curve (area = %0.2f)' % roc_auc)\n",
        "plt.plot([0, 1], [0, 1], color='navy', lw=lw, linestyle='--')\n",
        "plt.xlim([0.0, 1.0])\n",
        "plt.ylim([0.0, 1.05])\n",
        "plt.xlabel('False Positive Rate')\n",
        "plt.ylabel('True Positive Rate')\n",
        "plt.title('Receiver operating characteristic example')\n",
        "plt.legend(loc=\"lower right\")\n",
        "plt.show()"
      ],
      "execution_count": 79,
      "outputs": [
        {
          "output_type": "display_data",
          "data": {
            "image/png": "[encoded data removed]",
            "text/plain": [
              "<Figure size 432x288 with 1 Axes>"
            ]
          },
          "metadata": {
            "tags": [],
            "needs_background": "light"
          }
        }
      ]
    }
  ]
}